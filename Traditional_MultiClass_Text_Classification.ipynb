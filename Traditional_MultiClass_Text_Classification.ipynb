{
 "cells": [
  {
   "cell_type": "markdown",
   "metadata": {},
   "source": [
    "### MultiClass Text Classification\n",
    "#### Target ~ Text input\n",
    "A gently guideline to handle real data"
   ]
  },
  {
   "cell_type": "code",
   "execution_count": null,
   "metadata": {},
   "outputs": [],
   "source": [
    "import pandas as pd\n",
    "import numpy as np\n",
    "import re\n",
    "import string\n",
    "import pickle\n",
    "\n",
    "import nltk\n",
    "#nltk.download('stopwords')\n",
    "from nltk.corpus import stopwords\n",
    "from nltk.stem.snowball import SpanishStemmer\n",
    "\n",
    "from sklearn.preprocessing import OneHotEncoder\n",
    "from sklearn.feature_extraction.text import TfidfVectorizer\n",
    "from sklearn import preprocessing\n",
    "#!pip install stop_words\n",
    "from stop_words import get_stop_words\n",
    "\n",
    "from sklearn.linear_model import LogisticRegression\n",
    "from sklearn.ensemble import RandomForestClassifier\n",
    "from sklearn.naive_bayes import MultinomialNB\n",
    "from sklearn.svm import LinearSVC\n",
    "from sklearn.calibration import CalibratedClassifierCV\n",
    "from sklearn.model_selection import train_test_split\n",
    "from sklearn.model_selection import cross_val_score\n",
    "from sklearn.metrics import precision_recall_fscore_support\n",
    "from sklearn.metrics import confusion_matrix\n",
    "from sklearn import metrics\n",
    "from sklearn import preprocessing\n",
    "\n",
    "\n",
    "#!python -m spacy download es\n",
    "import es_core_news_sm  #es_core_news_md\n",
    "from spacy import displacy\n",
    "from spacy.tokenizer import Tokenizer\n",
    "\n",
    "import matplotlib.pyplot as plt\n",
    "import seaborn as sns\n",
    "from utils import *"
   ]
  },
  {
   "cell_type": "markdown",
   "metadata": {},
   "source": [
    "#### Loading data"
   ]
  },
  {
   "cell_type": "code",
   "execution_count": 2,
   "metadata": {},
   "outputs": [],
   "source": [
    "resource_path = 'release3/resources'"
   ]
  },
  {
   "cell_type": "code",
   "execution_count": 3,
   "metadata": {},
   "outputs": [
    {
     "name": "stdout",
     "output_type": "stream",
     "text": [
      "Data size:  (10948, 19)\n"
     ]
    }
   ],
   "source": [
    "df = pd.read_excel('path/to/corpus.xlsx', sheet_name='Hoja1')\n",
    "print('Data size: ', df.shape)\n",
    "\n",
    "# General Model resources\n",
    "stopSpanish = pickle.load(open(f\"{resource_path}/stopSpanish.pkl\",'rb'))\n",
    "id_to_category = pickle.load(open(f\"{resource_path}/id_to_category.pkl\",'rb'))\n",
    "tfidf_legacy = pickle.load(open(f\"{resource_path}/tfidf_legacy.pkl\",'rb'))\n",
    "model_legacy = pickle.load(open(f\"{resource_path}/model_legacy.pkl\",'rb'))\n",
    "onehot_encoder_legacy = pickle.load(open(f\"{resource_path}/onehot_encoder_legacy.pkl\",'rb'))\n",
    "\n",
    "# Model of overlaped classes\n",
    "id_to_category_sub = pickle.load(open(\"release3/resources/id_to_category_sub.pkl\",'rb'))\n",
    "tfidf_sub = pickle.load(open(\"release3/resources/tfidf_sub.pkl\",'rb'))\n",
    "onehot_encoder_sub = pickle.load(open(\"release3/resources/onehot_encoder_sub.pkl\",'rb'))\n",
    "model_sub = pickle.load(open(\"release3/resources/model_sub.pkl\",'rb'))"
   ]
  },
  {
   "cell_type": "markdown",
   "metadata": {},
   "source": [
    "### Exploratory analysis"
   ]
  },
  {
   "cell_type": "markdown",
   "metadata": {},
   "source": [
    "Removing non useful variables"
   ]
  },
  {
   "cell_type": "code",
   "execution_count": 4,
   "metadata": {},
   "outputs": [
    {
     "name": "stdout",
     "output_type": "stream",
     "text": [
      "Data size:  (10871, 6)\n"
     ]
    }
   ],
   "source": [
    "df = remove_variables(df)\n",
    "print('Data size: ', df.shape)"
   ]
  },
  {
   "cell_type": "markdown",
   "metadata": {},
   "source": [
    "Target distribution"
   ]
  },
  {
   "cell_type": "code",
   "execution_count": null,
   "metadata": {},
   "outputs": [],
   "source": [
    "plot_freq_target_comentario(df, 'TARGET')"
   ]
  },
  {
   "cell_type": "markdown",
   "metadata": {},
   "source": [
    "Removing class with lowest samples"
   ]
  },
  {
   "cell_type": "code",
   "execution_count": null,
   "metadata": {},
   "outputs": [],
   "source": [
    "df = remove_rows(df, 'TARGET', 'NON_REPRESENTATIVE_CATEGORY')"
   ]
  },
  {
   "cell_type": "markdown",
   "metadata": {},
   "source": [
    "Text normalization"
   ]
  },
  {
   "cell_type": "code",
   "execution_count": 7,
   "metadata": {},
   "outputs": [],
   "source": [
    "df['TEXTINPUT'] = df['TEXTINPUT'].map(lambda com : remove_stopwords(clean_text(com), stopSpanish))"
   ]
  },
  {
   "cell_type": "markdown",
   "metadata": {},
   "source": [
    "Categories handling (from text to id)"
   ]
  },
  {
   "cell_type": "code",
   "execution_count": 8,
   "metadata": {},
   "outputs": [
    {
     "name": "stdout",
     "output_type": "stream",
     "text": [
      "Saving target categories\n"
     ]
    }
   ],
   "source": [
    "category_id_df, id_to_category, df = target_handling(df,'TARGET','category_to_id.pkl','id_to_category.pkl')"
   ]
  },
  {
   "cell_type": "markdown",
   "metadata": {},
   "source": [
    "### Data preparation"
   ]
  },
  {
   "cell_type": "markdown",
   "metadata": {},
   "source": [
    "Feature text to numeric vector"
   ]
  },
  {
   "cell_type": "code",
   "execution_count": 12,
   "metadata": {},
   "outputs": [],
   "source": [
    "# Run this cell if 'tfidf_legacy' not present\n",
    "\n",
    "# tfidf = TfidfVectorizer(sublinear_tf=True, min_df=5, norm='l2', encoding='latin-1', ngram_range=(1, 3), stop_words=stopSpanish)\n",
    "# features = tfidf.fit_transform(df.TEXTINPUT).toarray()\n",
    "\n",
    "# # For relevant features extraction\n",
    "# X = tfidf.fit_transform(df.TEXTINPUT)\n",
    "# feature_names = tfidf.get_feature_names()\n",
    "\n",
    "# print(\"Saving Tf-idf Vectorizer:\")\n",
    "# with open(f'{resource_path}/tfidf_mixed_m1.pkl', 'wb') as f:\n",
    "#     pickle.dump(tfidf, f)"
   ]
  },
  {
   "cell_type": "code",
   "execution_count": 10,
   "metadata": {},
   "outputs": [],
   "source": [
    "labels = df.TARGET_id"
   ]
  },
  {
   "cell_type": "markdown",
   "metadata": {},
   "source": [
    "One hot encoding of categorical variables"
   ]
  },
  {
   "cell_type": "markdown",
   "metadata": {},
   "source": [
    "Legacy model - no training required"
   ]
  },
  {
   "cell_type": "code",
   "execution_count": 11,
   "metadata": {},
   "outputs": [],
   "source": [
    "features = tfidf_legacy.transform(df.TEXTINPUT).toarray()\n",
    "one_hot = onehot_encoder_legacy.transform(np.array(df[['CATEGORYCOLUMN']]))"
   ]
  },
  {
   "cell_type": "markdown",
   "metadata": {},
   "source": [
    "#### Relevant features"
   ]
  },
  {
   "cell_type": "markdown",
   "metadata": {},
   "source": [
    "Plot most relevant words by class"
   ]
  },
  {
   "cell_type": "code",
   "execution_count": 15,
   "metadata": {},
   "outputs": [],
   "source": [
    "topfeats = top_feats_by_class(X, labels, feature_names)"
   ]
  },
  {
   "cell_type": "code",
   "execution_count": null,
   "metadata": {},
   "outputs": [],
   "source": [
    "plot_tfidf_classfeats_h(topfeats, id_to_category_tmp)"
   ]
  },
  {
   "cell_type": "markdown",
   "metadata": {},
   "source": [
    "Merge vectorized features, category features and aditional features"
   ]
  },
  {
   "cell_type": "code",
   "execution_count": 12,
   "metadata": {},
   "outputs": [],
   "source": [
    "features = np.append(features, one_hot, axis=1)"
   ]
  },
  {
   "cell_type": "code",
   "execution_count": 13,
   "metadata": {},
   "outputs": [
    {
     "data": {
      "text/plain": [
       "(10866, 17281)"
      ]
     },
     "execution_count": 13,
     "metadata": {},
     "output_type": "execute_result"
    }
   ],
   "source": [
    "features.shape"
   ]
  },
  {
   "cell_type": "markdown",
   "metadata": {},
   "source": [
    "### Training models"
   ]
  },
  {
   "cell_type": "code",
   "execution_count": null,
   "metadata": {
    "collapsed": true
   },
   "outputs": [],
   "source": [
    "# Models\n",
    "models = [\n",
    "    RandomForestClassifier(n_estimators=300, max_depth=5, random_state=0),\n",
    "    LinearSVC(),\n",
    "    MultinomialNB(),\n",
    "    LogisticRegression(random_state=0, solver='lbfgs', max_iter=1000, multi_class='ovr'),\n",
    "]\n",
    "\n",
    "cv_df = pd.DataFrame(index=range(CV * len(models)))\n",
    "entries = []\n",
    "for model in models:\n",
    "    model_name = model.__class__.__name__\n",
    "    accuracies = cross_val_score(model, features, labels, scoring='accuracy', cv=CV)\n",
    "    for fold_idx, accuracy in enumerate(accuracies):\n",
    "        entries.append((model_name, fold_idx, accuracy))\n",
    "        \n",
    "cv_df = pd.DataFrame(entries, columns=['model_name', 'fold_idx', 'accuracy'])"
   ]
  },
  {
   "cell_type": "code",
   "execution_count": 20,
   "metadata": {},
   "outputs": [
    {
     "name": "stderr",
     "output_type": "stream",
     "text": [
      "/home/main/anaconda3/lib/python3.6/site-packages/seaborn/categorical.py:462: FutureWarning: remove_na is deprecated and is a private function. Do not use.\n",
      "  box_data = remove_na(group_data)\n"
     ]
    },
    {
     "data": {
      "image/png": "[encoded data removed]",
      "text/plain": [
       "<Figure size 432x288 with 1 Axes>"
      ]
     },
     "metadata": {},
     "output_type": "display_data"
    }
   ],
   "source": [
    "sns.boxplot(x='model_name', y='accuracy', data=cv_df)\n",
    "sns.stripplot(x='model_name', y='accuracy', data=cv_df, \n",
    "              size=8, jitter=True, edgecolor=\"gray\", linewidth=2)\n",
    "plt.show()"
   ]
  },
  {
   "cell_type": "markdown",
   "metadata": {},
   "source": [
    "Model evaluation"
   ]
  },
  {
   "cell_type": "code",
   "execution_count": 21,
   "metadata": {},
   "outputs": [
    {
     "data": {
      "text/plain": [
       "model_name\n",
       "LinearSVC                 0.957941\n",
       "LogisticRegression        0.930233\n",
       "MultinomialNB             0.860660\n",
       "RandomForestClassifier    0.739146\n",
       "Name: accuracy, dtype: float64"
      ]
     },
     "execution_count": 21,
     "metadata": {},
     "output_type": "execute_result"
    }
   ],
   "source": [
    "cv_df.groupby('model_name').accuracy.mean()"
   ]
  },
  {
   "cell_type": "code",
   "execution_count": 20,
   "metadata": {},
   "outputs": [
    {
     "name": "stdout",
     "output_type": "stream",
     "text": [
      "accuracies (individual model) [0.95737705 0.95209974 0.94806049 0.95720869 0.95912986]\n"
     ]
    }
   ],
   "source": [
    "# Individual model training\n",
    "\n",
    "model = LinearSVC(max_iter=10000)\n",
    "#model = LogisticRegression(random_state=0, solver='lbfgs', max_iter=1000, multi_class='ovr')\n",
    "\n",
    "X_train, X_test, y_train, y_test, indices_train, indices_test = train_test_split(features, labels, df.index, test_size=0.3, random_state=42)\n",
    "model.fit(X_train, y_train)\n",
    "y_pred = model.predict(X_test)\n",
    "\n",
    "\n",
    "# clf = CalibratedClassifierCV(base_estimator=model, cv='prefit') \n",
    "# clf.fit(X_train, y_train)\n",
    "# y_proba = clf.predict_proba(X_test)\n",
    "\n",
    "accuracies = cross_val_score(model, X_train, y_train, scoring='accuracy', cv=CV)\n",
    "\n",
    "print('accuracies (individual model)',accuracies)"
   ]
  },
  {
   "cell_type": "code",
   "execution_count": 14,
   "metadata": {},
   "outputs": [
    {
     "name": "stdout",
     "output_type": "stream",
     "text": [
      "accuracies (individual model) [0.8642623  0.84776903 0.84888305 0.84924292 0.85883905]\n"
     ]
    }
   ],
   "source": [
    "#No training required\n",
    "X_train, X_test, y_train, y_test, indices_train, indices_test = train_test_split(features, labels, df.index, test_size=0.3, random_state=42)\n",
    "y_pred = model_legacy.predict(X_test)\n",
    "\n",
    "# clf = CalibratedClassifierCV(base_estimator=model, cv='prefit') \n",
    "# clf.fit(X_train, y_train)\n",
    "# y_proba = clf.predict_proba(X_test)\n",
    "\n",
    "accuracies = cross_val_score(model_legacy, X_train, y_train, scoring='accuracy', cv=CV)\n",
    "\n",
    "print('accuracies (individual model)',accuracies)"
   ]
  },
  {
   "cell_type": "code",
   "execution_count": null,
   "metadata": {},
   "outputs": [],
   "source": [
    "# Result - Confusion matrix\n",
    "conf_mat = confusion_matrix(y_test, y_pred)\n",
    "fig, ax = plt.subplots(figsize=(8,6))\n",
    "sns.heatmap(conf_mat, annot=True, fmt='d',\n",
    "            xticklabels=category_id_df.TEXTINPUT.values, yticklabels=category_id_df.TARGET.values)\n",
    "plt.ylabel('Actual')\n",
    "plt.xlabel('Predicted')\n",
    "plt.show()"
   ]
  },
  {
   "cell_type": "code",
   "execution_count": null,
   "metadata": {},
   "outputs": [],
   "source": [
    "print(\"Summary of model by classes:\")\n",
    "print(metrics.classification_report(y_test, y_pred, \n",
    "                                    target_names=df['TARGET'].unique()))"
   ]
  },
  {
   "cell_type": "code",
   "execution_count": null,
   "metadata": {},
   "outputs": [],
   "source": [
    "dft = df.loc[list(indices_test)].copy()\n",
    "dft['TARGET_id_pred'] = y_pred\n",
    "dft.head()"
   ]
  },
  {
   "cell_type": "markdown",
   "metadata": {},
   "source": [
    "#### Sub classifier"
   ]
  },
  {
   "cell_type": "code",
   "execution_count": 25,
   "metadata": {},
   "outputs": [],
   "source": [
    "y_pred_sub = []\n",
    "for i in dft[(dft['TARGET_id_pred'] == 2) | (dft['TARGET_id_pred'] == 8)].index:\n",
    "    features_sub = tfidf_sub.transform([dft.TEXTINPUT[i]]).toarray()\n",
    "    one_hot_sub = onehot_encoder_sub.transform(np.array([dft.CATEGORYCOLUMN[i],..,]).reshape(1, 3))\n",
    "    features_sub = np.append(features_sub, one_hot_sub, axis=1)\n",
    "    sub_pred = model_sub.predict(features_sub)[0]\n",
    "    #print(sub_pred.item())\n",
    "    y_pred_sub.append(sub_pred)"
   ]
  },
  {
   "cell_type": "code",
   "execution_count": 29,
   "metadata": {},
   "outputs": [],
   "source": [
    "y_pred_sub = [2 if x==0 else 8 for x in y_pred_sub]"
   ]
  },
  {
   "cell_type": "code",
   "execution_count": 32,
   "metadata": {},
   "outputs": [],
   "source": [
    "dft.loc[(dft['TARGET_id_pred'] == 2) | (dft['TARGET_id_pred'] == 8), 'TARGET_id_pred'] = y_pred_sub"
   ]
  },
  {
   "cell_type": "markdown",
   "metadata": {},
   "source": [
    "New y_test and y_pred"
   ]
  },
  {
   "cell_type": "code",
   "execution_count": 35,
   "metadata": {},
   "outputs": [],
   "source": [
    "y_test_n = dft.TARGET_id\n",
    "y_pred_n = dft.TARGET_id_pred"
   ]
  },
  {
   "cell_type": "code",
   "execution_count": null,
   "metadata": {},
   "outputs": [],
   "source": [
    "# Result - Confusion matrix\n",
    "conf_mat = confusion_matrix(y_test_n, y_pred_n)\n",
    "fig, ax = plt.subplots(figsize=(8,6))\n",
    "sns.heatmap(conf_mat, annot=True, fmt='d',\n",
    "            xticklabels=category_id_df.TARGET.values, yticklabels=category_id_df.TARGET.values)\n",
    "plt.ylabel('Actual')\n",
    "plt.xlabel('Predicted')\n",
    "plt.show()"
   ]
  },
  {
   "cell_type": "code",
   "execution_count": null,
   "metadata": {},
   "outputs": [],
   "source": [
    "print(\"Summary of model by classes:\")\n",
    "print(metrics.classification_report(y_test_n, y_pred_n, \n",
    "                                    target_names=df['TARGET'].unique()))"
   ]
  }
 ],
 "metadata": {
  "kernelspec": {
   "display_name": "Python 3",
   "language": "python",
   "name": "python3"
  },
  "language_info": {
   "codemirror_mode": {
    "name": "ipython",
    "version": 3
   },
   "file_extension": ".py",
   "mimetype": "text/x-python",
   "name": "python",
   "nbconvert_exporter": "python",
   "pygments_lexer": "ipython3",
   "version": "3.6.7"
  }
 },
 "nbformat": 4,
 "nbformat_minor": 2
}
