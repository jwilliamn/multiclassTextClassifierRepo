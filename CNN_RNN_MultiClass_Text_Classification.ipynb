{
  "nbformat": 4,
  "nbformat_minor": 0,
  "metadata": {
    "colab": {
      "name": "CNN_RNN_MultiClass_Text_Classification.ipynb",
      "version": "0.3.2",
      "provenance": [],
      "collapsed_sections": []
    },
    "kernelspec": {
      "name": "python3",
      "display_name": "Python 3"
    },
    "accelerator": "GPU"
  },
  "cells": [
    {
      "metadata": {
        "id": "lcj-hbuABzUI",
        "colab_type": "text"
      },
      "cell_type": "markdown",
      "source": [
        "# Multi Class Text Classification - CNN & RNN"
      ]
    },
    {
      "metadata": {
        "id": "IY2r3jUVBHLh",
        "colab_type": "code",
        "colab": {}
      },
      "cell_type": "code",
      "source": [
        "import tensorflow as tf\n",
        "from tensorflow import keras\n",
        "\n",
        "import keras as k\n",
        "from keras.preprocessing.text import Tokenizer\n",
        "from keras.preprocessing.text import text_to_word_sequence\n",
        "from keras.preprocessing.sequence import pad_sequences\n",
        "from keras.utils.np_utils import to_categorical\n",
        "from keras.layers import Dense, Input, GlobalMaxPooling1D, Dropout, LSTM\n",
        "from keras.layers import Conv1D, MaxPooling1D, Embedding, Bidirectional\n",
        "from keras.models import Model\n",
        "from keras.initializers import Constant\n",
        "\n",
        "import numpy as np\n",
        "import pandas as pd\n",
        "import matplotlib.pyplot as plt\n",
        "\n",
        "import nltk\n",
        "nltk.download('stopwords')\n",
        "from nltk.corpus import stopwords\n",
        "from nltk.stem.snowball import SpanishStemmer\n",
        "\n",
        "import re\n",
        "import string\n",
        "\n",
        "!pip install stop_words\n",
        "from stop_words import get_stop_words\n",
        "\n",
        "from sklearn.feature_extraction.text import TfidfVectorizer\n",
        "from sklearn.model_selection import train_test_split\n",
        "from sklearn.metrics import confusion_matrix\n",
        "from sklearn import metrics\n",
        "import seaborn as sns\n",
        "\n",
        "\n",
        "print(tf.__version__)"
      ],
      "execution_count": 0,
      "outputs": []
    },
    {
      "metadata": {
        "id": "ySnhL2rEF4tm",
        "colab_type": "text"
      },
      "cell_type": "markdown",
      "source": [
        "Load data from local"
      ]
    },
    {
      "metadata": {
        "id": "PD7036JMDVjI",
        "colab_type": "code",
        "colab": {}
      },
      "cell_type": "code",
      "source": [
        "df = pd.read_excel('path/to/data.xlsx', sheet_name='Hoja1')\n",
        "print('Data size: ', df.shape)"
      ],
      "execution_count": 0,
      "outputs": []
    },
    {
      "metadata": {
        "id": "eKCwOWIkF_Hu",
        "colab_type": "text"
      },
      "cell_type": "markdown",
      "source": [
        "## Explore and preprocess data"
      ]
    },
    {
      "metadata": {
        "id": "79zE-UFFGnkZ",
        "colab_type": "code",
        "colab": {}
      },
      "cell_type": "code",
      "source": [
        "df = df.dropna()\n",
        "df = df.reset_index(drop=True)\n",
        "\n",
        "df.info()"
      ],
      "execution_count": 0,
      "outputs": []
    },
    {
      "metadata": {
        "id": "bTjDF6W0LnF_",
        "colab_type": "text"
      },
      "cell_type": "markdown",
      "source": [
        "Labels to integers"
      ]
    },
    {
      "metadata": {
        "id": "OsHd6SqcKrPM",
        "colab_type": "code",
        "colab": {}
      },
      "cell_type": "code",
      "source": [
        "df['TARGET_id'] = df['TARGET'].factorize()[0]\n",
        "category_id_df = df[['TARGET', 'TARGET_id']].drop_duplicates().sort_values('TARGET_id')\n",
        "category_to_id = dict(category_id_df.values)\n",
        "id_to_category = dict(category_id_df[['TARGET_id', 'TARGET']].values)\n",
        "\n",
        "df.head()"
      ],
      "execution_count": 0,
      "outputs": []
    },
    {
      "metadata": {
        "id": "MsRFfPQpOLNI",
        "colab_type": "text"
      },
      "cell_type": "markdown",
      "source": [
        "Data cleaning, remove numbers, punctuation and convert to lowercase"
      ]
    },
    {
      "metadata": {
        "id": "1nUExCtJM5Rs",
        "colab_type": "code",
        "colab": {}
      },
      "cell_type": "code",
      "source": [
        "def remove_numbers(text):\n",
        "    return ''.join([letter for letter in text if not letter.isdigit()])\n",
        " \n",
        "def remove_punctuation(text):\n",
        "    regex = re.compile('[%s]' % re.escape(string.punctuation))\n",
        "    return regex.sub(' ', str(text))\n",
        "\n",
        "def clean_text(text):\n",
        "    text = remove_punctuation(text)\n",
        "    text = remove_numbers(text)\n",
        "    \n",
        "    text = text.lower()\n",
        "    text = re.sub('\\W', ' ', text)\n",
        "    text = re.sub('\\s+', ' ', text)\n",
        "    text = text.strip(' ')\n",
        "    return text"
      ],
      "execution_count": 0,
      "outputs": []
    },
    {
      "metadata": {
        "id": "ygNluSWEOvXE",
        "colab_type": "code",
        "colab": {}
      },
      "cell_type": "code",
      "source": [
        "stemmer=SpanishStemmer()\n",
        "\n",
        "stopwords_es = set(stopwords.words('spanish'))\n",
        "stopwords_es_sw = set(get_stop_words('spanish'))\n",
        "\n",
        "stopSpanish = set(stopwords_es.union(stopwords_es_sw))\n",
        "\n",
        "stopSpanish = list(stopSpanish)\n",
        "stopSpanish.extend(['tra', 'd', 'desc'])\n",
        "stopSpanish.remove('no')\n",
        "\n",
        "print(type(stopSpanish), len(stopSpanish))\n",
        "\n",
        "def remove_stopwords(text):\n",
        "    textList = text.split()\n",
        "    textList = [word for word in textList if word not in stopSpanish]\n",
        "    return ' '.join([word for word in textList])"
      ],
      "execution_count": 0,
      "outputs": []
    },
    {
      "metadata": {
        "id": "JOln4ufmOav5",
        "colab_type": "code",
        "colab": {}
      },
      "cell_type": "code",
      "source": [
        "df['TEXT'] = df['TEXT'].map(lambda com : remove_stopwords(clean_text(com)))"
      ],
      "execution_count": 0,
      "outputs": []
    },
    {
      "metadata": {
        "id": "-6KOqrxm2y5z",
        "colab_type": "text"
      },
      "cell_type": "markdown",
      "source": [
        "#### From Text to Numbers"
      ]
    },
    {
      "metadata": {
        "id": "0DQaKilLT1-w",
        "colab_type": "code",
        "outputId": "f4cce8a1-cf11-4880-b2e5-2752bda34349",
        "colab": {
          "base_uri": "https://localhost:8080/",
          "height": 36
        }
      },
      "cell_type": "code",
      "source": [
        "texts = df['TEXT']\n",
        "labels = df['TARGET_id']\n",
        "\n",
        "tokenizer = Tokenizer(num_words=10000)\n",
        "tokenizer.fit_on_texts(texts)\n",
        "sequences = tokenizer.texts_to_sequences(texts)\n",
        "\n",
        "\n",
        "word_index = tokenizer.word_index\n",
        "print('Number of Unique Tokens',len(word_index))"
      ],
      "execution_count": 0,
      "outputs": [
        {
          "output_type": "stream",
          "text": [
            "Number of Unique Tokens 15749\n"
          ],
          "name": "stdout"
        }
      ]
    },
    {
      "metadata": {
        "id": "d9aCqXcYqq75",
        "colab_type": "code",
        "colab": {}
      },
      "cell_type": "code",
      "source": [
        "# Longitud uniformizada del texto\n",
        "data = pad_sequences(sequences,\n",
        "                     padding='post',\n",
        "                     maxlen= 415) #128)\n",
        "\n",
        "labels = to_categorical(np.asarray(labels))"
      ],
      "execution_count": 0,
      "outputs": []
    },
    {
      "metadata": {
        "id": "nlgea__J-23G",
        "colab_type": "code",
        "outputId": "7786fb31-367d-4c02-e8ae-3a31264aec53",
        "colab": {
          "base_uri": "https://localhost:8080/",
          "height": 36
        }
      },
      "cell_type": "code",
      "source": [
        "embeddings_index = {}\n",
        "with open('/path/to/word_embedding/cc.es.300.vec') as f:\n",
        "    next(f)\n",
        "    for line in f:\n",
        "        values = line.split()\n",
        "        word = values[0]\n",
        "        coefs = np.asarray(values[1:], dtype='float32')\n",
        "        embeddings_index[word] = coefs\n",
        "\n",
        "print('Found %s word vectors.' % len(embeddings_index))"
      ],
      "execution_count": 0,
      "outputs": [
        {
          "output_type": "stream",
          "text": [
            "Found 2000000 word vectors.\n"
          ],
          "name": "stdout"
        }
      ]
    },
    {
      "metadata": {
        "id": "K7-0gMTc0--t",
        "colab_type": "code",
        "colab": {}
      },
      "cell_type": "code",
      "source": [
        "# Embedding Matrix\n",
        "embedding_matrix = np.zeros((len(word_index)+1, 300))\n",
        "for word, i in word_index.items():\n",
        "\tembedding_vector = embeddings_index.get(word)\n",
        "\tif embedding_vector is not None:\n",
        "\t\tembedding_matrix[i] = embedding_vector"
      ],
      "execution_count": 0,
      "outputs": []
    },
    {
      "metadata": {
        "id": "V3AU0KH9u0li",
        "colab_type": "code",
        "colab": {}
      },
      "cell_type": "code",
      "source": [
        "X_train, X_test, y_train, y_test = train_test_split(data, labels, test_size=0.2, random_state=42, stratify=labels)\n"
      ],
      "execution_count": 0,
      "outputs": []
    },
    {
      "metadata": {
        "id": "sL8z8TgdvvAc",
        "colab_type": "text"
      },
      "cell_type": "markdown",
      "source": [
        "## Build the model"
      ]
    },
    {
      "metadata": {
        "id": "DrxrkLr_XrAV",
        "colab_type": "text"
      },
      "cell_type": "markdown",
      "source": [
        "#### ConvNet"
      ]
    },
    {
      "metadata": {
        "id": "62pbgiKiECcs",
        "colab_type": "code",
        "colab": {}
      },
      "cell_type": "code",
      "source": [
        "EMBEDDING_DIM = 300\n",
        "MAX_SEQUENCE_LENGTH = 415\n",
        "num_words = len(word_index) + 1\n",
        "embedding_layer = Embedding(num_words, \n",
        "                            EMBEDDING_DIM, \n",
        "                            embeddings_initializer=Constant(embedding_matrix), \n",
        "                            input_length=MAX_SEQUENCE_LENGTH, \n",
        "                            trainable=False)"
      ],
      "execution_count": 0,
      "outputs": []
    },
    {
      "metadata": {
        "id": "rBXAjuYuGV2a",
        "colab_type": "code",
        "colab": {}
      },
      "cell_type": "code",
      "source": [
        "# 1st model architecture\n",
        "\n",
        "sequence_input = Input(shape=(MAX_SEQUENCE_LENGTH,), dtype='int32')\n",
        "embedded_sequences = embedding_layer(sequence_input)\n",
        "x = Conv1D(256, 3, activation='relu')(embedded_sequences)\n",
        "x = GlobalMaxPooling1D()(x)\n",
        "x = Dense(256, activation='relu')(x)\n",
        "preds = Dense(len(set(df['TARGET_id'])), activation='softmax')(x)\n",
        "\n",
        "model = Model(sequence_input, preds)"
      ],
      "execution_count": 0,
      "outputs": []
    },
    {
      "metadata": {
        "id": "Zi9uZ_b7Q2E3",
        "colab_type": "code",
        "colab": {}
      },
      "cell_type": "code",
      "source": [
        "# 2nd Model architecture\n",
        "\n",
        "# sequence_input = Input(shape=(MAX_SEQUENCE_LENGTH,), dtype='int32')\n",
        "# embedded_sequences = embedding_layer(sequence_input)\n",
        "# x = Conv1D(300, 3, activation='relu')(embedded_sequences)\n",
        "# x = GlobalMaxPooling1D()(x)\n",
        "# x = Dropout(0.5)(x)\n",
        "# x = Dense(300, activation='relu')(x)\n",
        "# x = Dropout(0.8)(x)\n",
        "# preds = Dense(len(set(df['TARGET_id'])), activation='softmax')(x)\n",
        "\n",
        "# model = Model(sequence_input, preds)"
      ],
      "execution_count": 0,
      "outputs": []
    },
    {
      "metadata": {
        "id": "JlWuC-SGXjcs",
        "colab_type": "text"
      },
      "cell_type": "markdown",
      "source": [
        "#### Bidirectional LSTM"
      ]
    },
    {
      "metadata": {
        "id": "m1EBBIvZXixf",
        "colab_type": "code",
        "colab": {}
      },
      "cell_type": "code",
      "source": [
        "# 1st model architecture\n",
        "\n",
        "#sequence_input = Input(shape=(MAX_SEQUENCE_LENGTH,), dtype='int32')\n",
        "#embedded_sequences = embedding_layer(sequence_input)\n",
        "#x = LSTM(10, activation='tanh', return_sequences=False)(embedded_sequences)\n",
        "#x = Dropout(0.25)(x)\n",
        "#x = LSTM(10, activation='tanh', return_sequences=False)(x)\n",
        "#x = Dropout(0.25)(x)\n",
        "#x = Dense(10, activation='relu')(x)\n",
        "#preds = Dense(len(set(df['TARGET_id'])), activation='softmax')(x)\n",
        "\n",
        "#model = Model(sequence_input, preds)\n",
        "#adam=k.optimizers.Adam()\n",
        "#model.compile(optimizer=adam, loss='categorical_crossentropy', metrics=['accuracy'])\n",
        "\n",
        "\n",
        "# 2nd model architecture\n",
        "sequence_input = Input(shape=(MAX_SEQUENCE_LENGTH,), dtype='int32')\n",
        "embedded_sequences = embedding_layer(sequence_input)\n",
        "l_lstm = Bidirectional(LSTM(100))(embedded_sequences)\n",
        "preds = Dense(len(set(df['TARGET_id'])), activation='softmax')(l_lstm)\n",
        "\n",
        "model = Model(sequence_input, preds)\n",
        "\n",
        "print(\"Bidirectional LSTM\")\n",
        "model.summary()"
      ],
      "execution_count": 0,
      "outputs": []
    },
    {
      "metadata": {
        "id": "NWazPh5r_L_l",
        "colab_type": "text"
      },
      "cell_type": "markdown",
      "source": [
        "#### Train"
      ]
    },
    {
      "metadata": {
        "id": "MTO5GtZcxamZ",
        "colab_type": "code",
        "colab": {}
      },
      "cell_type": "code",
      "source": [
        "model.compile(optimizer=tf.train.AdamOptimizer(0.001),\n",
        "              loss='categorical_crossentropy',\n",
        "              metrics=['accuracy'])   # 0.0001 , 0.0005"
      ],
      "execution_count": 0,
      "outputs": []
    },
    {
      "metadata": {
        "id": "hX9OLxUoRZPF",
        "colab_type": "code",
        "colab": {}
      },
      "cell_type": "code",
      "source": [
        "X_train_, X_val, y_train_, y_val = train_test_split(X_train, y_train, test_size=0.2, random_state=42, stratify=y_train)"
      ],
      "execution_count": 0,
      "outputs": []
    },
    {
      "metadata": {
        "id": "Z1XvYJ1rzQ8g",
        "colab_type": "code",
        "colab": {}
      },
      "cell_type": "code",
      "source": [
        "history = model.fit(X_train_,\n",
        "                    y_train_,\n",
        "                    epochs=30,\n",
        "                    batch_size=8,\n",
        "                    validation_data=(X_val, y_val),\n",
        "                    verbose=1)"
      ],
      "execution_count": 0,
      "outputs": []
    },
    {
      "metadata": {
        "id": "-r6m7_Q62xkH",
        "colab_type": "text"
      },
      "cell_type": "markdown",
      "source": [
        "Evalute the model"
      ]
    },
    {
      "metadata": {
        "id": "dawvg0Ty2zw9",
        "colab_type": "code",
        "colab": {}
      },
      "cell_type": "code",
      "source": [
        "results = model.evaluate(X_test, y_test)\n",
        "\n",
        "print(results)"
      ],
      "execution_count": 0,
      "outputs": []
    },
    {
      "metadata": {
        "id": "4FzRxpdK3L0U",
        "colab_type": "text"
      },
      "cell_type": "markdown",
      "source": [
        "### Results Visulization "
      ]
    },
    {
      "metadata": {
        "id": "fSbzgqNI3On0",
        "colab_type": "code",
        "colab": {}
      },
      "cell_type": "code",
      "source": [
        "history_dict = history.history\n",
        "history_dict.keys()"
      ],
      "execution_count": 0,
      "outputs": []
    },
    {
      "metadata": {
        "id": "VybqabyK3eLF",
        "colab_type": "code",
        "colab": {}
      },
      "cell_type": "code",
      "source": [
        "acc = history.history['acc']\n",
        "val_acc = history.history['val_acc']\n",
        "loss = history.history['loss']\n",
        "val_loss = history.history['val_loss']\n",
        "\n",
        "epochs = range(1, len(acc) + 1)\n",
        "\n",
        "# \"bo\" is for \"blue dot\"\n",
        "plt.plot(epochs, loss, 'bo', label='Training loss')\n",
        "# b is for \"solid blue line\"\n",
        "plt.plot(epochs, val_loss, 'b', label='Validation loss')\n",
        "plt.title('Training and validation loss')\n",
        "plt.xlabel('Epochs')\n",
        "plt.ylabel('Loss')\n",
        "plt.legend()\n",
        "\n",
        "plt.show()"
      ],
      "execution_count": 0,
      "outputs": []
    },
    {
      "metadata": {
        "id": "Whs-7rF83o6G",
        "colab_type": "code",
        "colab": {}
      },
      "cell_type": "code",
      "source": [
        "plt.clf()   # clear figure\n",
        "acc_values = history_dict['acc']\n",
        "val_acc_values = history_dict['val_acc']\n",
        "\n",
        "plt.plot(epochs, acc, 'bo', label='Training acc')\n",
        "plt.plot(epochs, val_acc, 'b', label='Validation acc')\n",
        "plt.title('Training and validation accuracy')\n",
        "plt.xlabel('Epochs')\n",
        "plt.ylabel('Accuracy')\n",
        "plt.legend()\n",
        "\n",
        "plt.show()"
      ],
      "execution_count": 0,
      "outputs": []
    },
    {
      "metadata": {
        "id": "JNAH2wsY5wvs",
        "colab_type": "code",
        "colab": {}
      },
      "cell_type": "code",
      "source": [
        "y_pred = model.predict(X_test)"
      ],
      "execution_count": 0,
      "outputs": []
    },
    {
      "metadata": {
        "id": "4wRupU347VDs",
        "colab_type": "code",
        "colab": {}
      },
      "cell_type": "code",
      "source": [
        "print(y_pred[100])\n",
        "print(np.argmax(y_pred[100]))\n",
        "print(y_test[100])\n",
        "print(np.argmax(y_test[100]))\n",
        "\n",
        "print(X_test.shape, y_test.shape)\n",
        "\n",
        "y_test_ = list(map(np.argmax, y_test))\n",
        "y_pred_ = list(map(np.argmax, y_pred))\n"
      ],
      "execution_count": 0,
      "outputs": []
    },
    {
      "metadata": {
        "id": "oTY6jE8o6KbI",
        "colab_type": "text"
      },
      "cell_type": "markdown",
      "source": [
        "Model evaluation"
      ]
    },
    {
      "metadata": {
        "id": "3ZJWOAS556Ii",
        "colab_type": "code",
        "colab": {}
      },
      "cell_type": "code",
      "source": [
        "conf_mat = confusion_matrix(y_test_, y_pred_)\n",
        "fig, ax = plt.subplots(figsize=(8,6))\n",
        "sns.heatmap(conf_mat, annot=True, fmt='d',\n",
        "            xticklabels=category_id_df.TARGET.values, yticklabels=category_id_df.TARGET.values)\n",
        "plt.ylabel('Actual')\n",
        "plt.xlabel('Predicted')\n",
        "plt.show()"
      ],
      "execution_count": 0,
      "outputs": []
    },
    {
      "metadata": {
        "id": "f9jD60G2UkYL",
        "colab_type": "code",
        "colab": {}
      },
      "cell_type": "code",
      "source": [
        "print(metrics.classification_report(y_test_, y_pred_, \n",
        "                                    target_names=df['TARGET'].unique()))"
      ],
      "execution_count": 0,
      "outputs": []
    }
  ]
}